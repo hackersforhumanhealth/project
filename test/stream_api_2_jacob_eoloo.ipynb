{
 "cells": [
  {
   "cell_type": "code",
   "execution_count": 23,
   "metadata": {
    "collapsed": false
   },
   "outputs": [],
   "source": [
    "from twitter import Twitter, OAuth, TwitterHTTPError, TwitterStream\n",
    "import pandas as pd\n",
    "import sys\n",
    "\n",
    "reload(sys)\n",
    "sys.setdefaultencoding(\"utf-8\")\n",
    "\n",
    "ckey = 'ALCoPyhzrbOTIKrFsFjFEA'\n",
    "csecret = 'XMbqXddwhpyA50ac9bctZmNgek62BkD9zmrUvEMbc'\n",
    "atoken = '889624724-vesOkw7n4LI0npescKYNjiT2VDpcv1jP3MhzW45g'\n",
    "asecret = 'k97A1nicLkekwKsUQaqgB0f9qvuHw0ln0ycsKq2JRi60E'\n",
    "\n",
    "oauth = OAuth(atoken, asecret, ckey, csecret)\n",
    "\n",
    "# Initiate the connection to Twitter Streaming API\n",
    "twitter_stream = TwitterStream(auth=oauth)\n",
    "\n",
    "# Get a sample of the public data following through Twitter\n",
    "iterator = twitter_stream.statuses.filter(locations='-126,-58,26,50', lang='en')\n",
    "\n",
    "print \"\\nHow many tweets would you like to collect?\"\n",
    "tweet_count = 1000 # input()\n",
    "output_file = 'testweets' # raw_input('Enter an output csv filename: ') or 'tweets.csv'\n",
    "\n",
    "with open(str(output_file),'w') as tweet_file:\n",
    "        #final_dict = {'uid':[], 'tid':[], 'text':[], 'timestamp':[], 'city':[], 'country':[], 'bounding_box':[]}\n",
    "        final_dict = {'uid':[], 'tid':[], 'text':[], 'timestamp':[], 'city':[], 'state':[],'country':[], 'bounding_box':[]}\n",
    "        for tweet in iterator:\n",
    "                tweet_count -= 1\n",
    "                # Twitter Python Tool wraps the data returned by Twitter\n",
    "                # as a TwitterDictResponse object.\n",
    "                # We convert it back to the JSON format to print/score\n",
    "                tweet.values()\n",
    "                for k,v in tweet.iteritems():\n",
    "                        if k == 'text':\n",
    "                                # ensuring tweet text is quoted for proper csv file output\n",
    "                                #quoted_text =  str(v)\n",
    "                                quoted_text =  '\"' + v + '\"' \n",
    "                                final_dict['text'].append(quoted_text)\n",
    "                        elif k == 'user':\n",
    "                                final_dict['uid'].append(v['id'])\n",
    "                        elif k == 'id':\n",
    "                                final_dict['tid'].append(v)\n",
    "                        elif k == 'timestamp_ms':\n",
    "                                final_dict['timestamp'].append(long(v))\n",
    "                        elif k == 'place':\n",
    "                                try:\n",
    "                                        final_dict['city'].append(v['full_name'].split(',')[0])\n",
    "                                        final_dict['state'].append(v['full_name'].split(',')[-1])\n",
    "                                        final_dict['country'].append(v['country'])\n",
    "                                        final_dict['bounding_box'].append(v['bounding_box'])\n",
    "                                except:\n",
    "                                        final_dict['city'].append('')\n",
    "                                        final_dict['state'].append('')\n",
    "                                        final_dict['country'].append('')\n",
    "                                        final_dict['bounding_box'].append('')\n",
    "\n",
    "\n",
    "                if tweet_count <= 0:\n",
    "                        break\n",
    "\n",
    "\n",
    "        tweet_df = pd.DataFrame(final_dict)\n",
    "        tweet_df.to_csv(output_file + \".csv\")\n"
   ]
  },
  {
   "cell_type": "code",
   "execution_count": null,
   "metadata": {
    "collapsed": true
   },
   "outputs": [],
   "source": []
  },
  {
   "cell_type": "code",
   "execution_count": null,
   "metadata": {
    "collapsed": true
   },
   "outputs": [],
   "source": []
  }
 ],
 "metadata": {
  "kernelspec": {
   "display_name": "Python 2",
   "language": "python",
   "name": "python2"
  },
  "language_info": {
   "codemirror_mode": {
    "name": "ipython",
    "version": 2
   },
   "file_extension": ".py",
   "mimetype": "text/x-python",
   "name": "python",
   "nbconvert_exporter": "python",
   "pygments_lexer": "ipython2",
   "version": "2.7.10"
  }
 },
 "nbformat": 4,
 "nbformat_minor": 0
}
