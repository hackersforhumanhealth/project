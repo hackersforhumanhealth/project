{
 "cells": [
  {
   "cell_type": "markdown",
   "metadata": {},
   "source": [
    "#### Import Libraries"
   ]
  },
  {
   "cell_type": "code",
   "execution_count": 1,
   "metadata": {
    "collapsed": true
   },
   "outputs": [],
   "source": [
    "%matplotlib inline\n",
    "import numpy as np\n",
    "import scipy as sp\n",
    "import matplotlib as mpl\n",
    "import matplotlib.cm as cm\n",
    "import matplotlib.pyplot as plt\n",
    "import pandas as pd\n",
    "pd.set_option('display.width', 500)\n",
    "pd.set_option('display.max_columns', 100)\n",
    "pd.set_option('display.notebook_repr_html', True)\n",
    "import seaborn as sns\n",
    "sns.set_style(\"whitegrid\")\n",
    "sns.set_context(\"poster\")"
   ]
  },
  {
   "cell_type": "markdown",
   "metadata": {},
   "source": [
    "####Launch Spark Context"
   ]
  },
  {
   "cell_type": "code",
   "execution_count": 2,
   "metadata": {
    "collapsed": false
   },
   "outputs": [
    {
     "name": "stdout",
     "output_type": "stream",
     "text": [
      "/usr/local/opt/apache-spark/libexec\n"
     ]
    }
   ],
   "source": [
    "import findspark\n",
    "findspark.init()\n",
    "print findspark.find()\n",
    "import pyspark\n",
    "conf = (pyspark.SparkConf()\n",
    "    .setMaster('local')\n",
    "    .setAppName('pyspark')\n",
    "    .set(\"spark.executor.memory\", \"2g\"))\n",
    "sc = pyspark.SparkContext(conf=conf)"
   ]
  },
  {
   "cell_type": "markdown",
   "metadata": {},
   "source": [
    "####Check child execution processes"
   ]
  },
  {
   "cell_type": "code",
   "execution_count": 3,
   "metadata": {
    "collapsed": false
   },
   "outputs": [
    {
     "data": {
      "text/plain": [
       "['2.7.10 |Anaconda 2.3.0 (x86_64)| (default, Oct 19 2015, 18:31:17) \\n[GCC 4.2.1 (Apple Inc. build 5577)]',\n",
       " '2.7.10 |Anaconda 2.3.0 (x86_64)| (default, Oct 19 2015, 18:31:17) \\n[GCC 4.2.1 (Apple Inc. build 5577)]',\n",
       " '2.7.10 |Anaconda 2.3.0 (x86_64)| (default, Oct 19 2015, 18:31:17) \\n[GCC 4.2.1 (Apple Inc. build 5577)]',\n",
       " '2.7.10 |Anaconda 2.3.0 (x86_64)| (default, Oct 19 2015, 18:31:17) \\n[GCC 4.2.1 (Apple Inc. build 5577)]',\n",
       " '2.7.10 |Anaconda 2.3.0 (x86_64)| (default, Oct 19 2015, 18:31:17) \\n[GCC 4.2.1 (Apple Inc. build 5577)]',\n",
       " '2.7.10 |Anaconda 2.3.0 (x86_64)| (default, Oct 19 2015, 18:31:17) \\n[GCC 4.2.1 (Apple Inc. build 5577)]',\n",
       " '2.7.10 |Anaconda 2.3.0 (x86_64)| (default, Oct 19 2015, 18:31:17) \\n[GCC 4.2.1 (Apple Inc. build 5577)]',\n",
       " '2.7.10 |Anaconda 2.3.0 (x86_64)| (default, Oct 19 2015, 18:31:17) \\n[GCC 4.2.1 (Apple Inc. build 5577)]',\n",
       " '2.7.10 |Anaconda 2.3.0 (x86_64)| (default, Oct 19 2015, 18:31:17) \\n[GCC 4.2.1 (Apple Inc. build 5577)]',\n",
       " '2.7.10 |Anaconda 2.3.0 (x86_64)| (default, Oct 19 2015, 18:31:17) \\n[GCC 4.2.1 (Apple Inc. build 5577)]']"
      ]
     },
     "execution_count": 3,
     "metadata": {},
     "output_type": "execute_result"
    }
   ],
   "source": [
    "import sys\n",
    "rdd = sc.parallelize(xrange(10),10)\n",
    "rdd.map(lambda x: sys.version).collect()"
   ]
  },
  {
   "cell_type": "code",
   "execution_count": 4,
   "metadata": {
    "collapsed": true
   },
   "outputs": [],
   "source": [
    "from pyspark.sql import SQLContext\n",
    "sqlsc=SQLContext(sc)"
   ]
  },
  {
   "cell_type": "code",
   "execution_count": 38,
   "metadata": {
    "collapsed": false
   },
   "outputs": [
    {
     "name": "stdout",
     "output_type": "stream",
     "text": [
      "+----------+--------------------+-----------+-------------+--------------------+--------------------+-----------------+-------------+\n",
      "|Unnamed: 0|        bounding_box|       city|      country|                text|                 tid|        timestamp|          uid|\n",
      "+----------+--------------------+-----------+-------------+--------------------+--------------------+-----------------+-------------+\n",
      "|         0|{u'type': u'Polyg...|  BrasÃ­lia|       Brasil|    @1menandro da mt|6.700545073599447E17|1.448588418222E12|  7.0561688E7|\n",
      "|         1|{u'type': u'Polyg...|  Las Vegas|United States|snapchat saw it f...|6.700545067264286...|1.448588418071E12|3.237387799E9|\n",
      "|         2|{u'type': u'Polyg...| Montevideo|      Uruguay|@JessGlynne i lov...|6.700545075612508...| 1.44858841827E12| 5.08050263E8|\n",
      "|         3|{u'type': u'Polyg...|Miami Beach|United States|@VelozaJefferson ...|6.700545075612713E17| 1.44858841827E12| 4.04523779E8|\n",
      "|         4|{u'type': u'Polyg...|  Asheville|United States|I love u https://...|6.700545060471234...|1.448588417909E12|2.588127421E9|\n",
      "+----------+--------------------+-----------+-------------+--------------------+--------------------+-----------------+-------------+\n",
      "only showing top 5 rows\n",
      "\n"
     ]
    }
   ],
   "source": [
    "pandas_df = pd.read_csv('../dataset/tweets.csv')\n",
    "#pandas_df.head(5)\n",
    "alltweetsdf = sqlsc.createDataFrame(pandas_df)\n",
    "alltweetsdf.show(5)\n"
   ]
  },
  {
   "cell_type": "code",
   "execution_count": 36,
   "metadata": {
    "collapsed": false
   },
   "outputs": [
    {
     "name": "stdout",
     "output_type": "stream",
     "text": [
      "root\n",
      " |-- Unnamed: 0: string (nullable = true)\n",
      " |-- bounding_box: string (nullable = true)\n",
      " |-- city: string (nullable = true)\n",
      " |-- country: string (nullable = true)\n",
      " |-- text: string (nullable = true)\n",
      " |-- tid: double (nullable = true)\n",
      " |-- timestamp: double (nullable = true)\n",
      " |-- uid: double (nullable = true)\n",
      "\n"
     ]
    }
   ],
   "source": [
    "alltweetsdf.printSchema()"
   ]
  },
  {
   "cell_type": "markdown",
   "metadata": {},
   "source": [
    "####Select US tweets"
   ]
  },
  {
   "cell_type": "code",
   "execution_count": 56,
   "metadata": {
    "collapsed": false
   },
   "outputs": [
    {
     "name": "stdout",
     "output_type": "stream",
     "text": [
      "+--------------------+-----+\n",
      "|             country|count|\n",
      "+--------------------+-----+\n",
      "|                 NaN|    5|\n",
      "|            Hrvatska|    1|\n",
      "|           Guatemala|   46|\n",
      "|            CuraÃ§ao|    1|\n",
      "|            Barbados|    8|\n",
      "|            Portugal|   80|\n",
      "|        Saint-Martin|    1|\n",
      "|         Deutschland|   25|\n",
      "|              Polska|    4|\n",
      "|       United States|16862|\n",
      "|British Virgin Is...|    5|\n",
      "|            Colombia| 1068|\n",
      "|              Canada|  644|\n",
      "|            RomÃ¢nia|    3|\n",
      "|             EspaÃ±a|  264|\n",
      "|             Bahamas|   11|\n",
      "|           Nicaragua|   39|\n",
      "|             Bolivia|    9|\n",
      "|          1658744474|    1|\n",
      "|               Chile|  627|\n",
      "+--------------------+-----+\n",
      "only showing top 20 rows\n",
      "\n"
     ]
    }
   ],
   "source": [
    "#alltweetsdf.select(\"country\").show()\n",
    "alltweetsdf.groupBy(\"country\").count().show()"
   ]
  },
  {
   "cell_type": "code",
   "execution_count": 85,
   "metadata": {
    "collapsed": false
   },
   "outputs": [
    {
     "name": "stdout",
     "output_type": "stream",
     "text": [
      "Count of All tweets = 45165\n",
      "Count of US tweets: 16862\n",
      "+----------+--------------------+------------+-------------+--------------------+--------------------+-----------------+-------------+\n",
      "|Unnamed: 0|        bounding_box|        city|      country|                text|                 tid|        timestamp|          uid|\n",
      "+----------+--------------------+------------+-------------+--------------------+--------------------+-----------------+-------------+\n",
      "|         1|{u'type': u'Polyg...|   Las Vegas|United States|snapchat saw it f...|6.700545067264286...|1.448588418071E12|3.237387799E9|\n",
      "|         3|{u'type': u'Polyg...| Miami Beach|United States|@VelozaJefferson ...|6.700545075612713E17| 1.44858841827E12| 4.04523779E8|\n",
      "|         4|{u'type': u'Polyg...|   Asheville|United States|I love u https://...|6.700545060471234...|1.448588417909E12|2.588127421E9|\n",
      "|         8|{u'type': u'Polyg...|       Boise|United States|I have $1 left #B...|6.700545079512309...|1.448588418363E12|2.980365728E9|\n",
      "|        12|{u'type': u'Polyg...|Pennsylvania|United States|@AsukaKojou i can...|6.700545080603729...|1.448588418389E12| 2.12678798E8|\n",
      "+----------+--------------------+------------+-------------+--------------------+--------------------+-----------------+-------------+\n",
      "only showing top 5 rows\n",
      "\n"
     ]
    }
   ],
   "source": [
    "ustweetsdf = alltweetsdf.filter(alltweetsdf['country'] == \"United States\" )\n",
    "#ustweetsdf.cache()\n",
    "print \"Count of All tweets =\", alltweetsdf.count()\n",
    "print \"Count of US tweets:\", ustweetsdf.count()\n",
    "ustweetsdf.show(5)\n"
   ]
  },
  {
   "cell_type": "code",
   "execution_count": 112,
   "metadata": {
    "collapsed": false
   },
   "outputs": [
    {
     "name": "stdout",
     "output_type": "stream",
     "text": [
      "27.0\n"
     ]
    }
   ],
   "source": [
    "#  http://s3-eu-west-1.amazonaws.com/files.figshare.com/360592/Data_Set_S1.txt\n",
    "happiness_dict = {}\n",
    "def read_sentiment_wordList(wordlist_file):\n",
    "    inputfile = open(wordlist_file, 'r')\n",
    "    \n",
    "    filetext = inputfile.readlines() \n",
    "    \n",
    "    for line in filetext[4:]:\n",
    "        rowfields = line[:-1].split('\\t')\n",
    "        happiness_dict[rowfields[0]] = float(rowfields[1])\n",
    "\n",
    "\n",
    "    return happiness_dict\n",
    "\n",
    "read_sentiment_wordList('./Data_Set_S1.txt')\n",
    "\n",
    "print happiness_dict['celebrate']"
   ]
  },
  {
   "cell_type": "code",
   "execution_count": 87,
   "metadata": {
    "collapsed": false
   },
   "outputs": [
    {
     "name": "stdout",
     "output_type": "stream",
     "text": [
      "\\:\\-\\)\n"
     ]
    }
   ],
   "source": [
    "#https://github.com/OhLookCake/EmoticonSentiment/blob/master/scripts/scoreEmoticons.R\n",
    "emoticonlist =[\"\\\\:\\\\-\\\\)\",\"\\\\:\\\\)\",\"\\\\=\\\\)\", \n",
    "               \"\\\\:\\\\-D\",\"\\\\:D\",\"8\\\\-D\",\"8D\",\"x\\\\-D\",\"xD\",\"X\\\\-D\",\"XD\", \n",
    "               \"\\\\:\\\\-\\\\(\",\"\\\\:\\\\(\", \"\\\\:\\\\-\\\\|\",\"\\\\:\\\\|\", \"\\\\:\\\\'\\\\-\\\\(\",\"\\\\:\\\\'\\\\(\\\\)\",\n",
    "               \"\\\\:\\\\'\\\\-\\\\)\",\"\\\\:\\\\'\\\\)\", \n",
    "               \"\\\\:\\\\-o\",\"\\\\:\\\\-O\",\"\\\\:o\",\"\\\\:O\", \n",
    "               \"o_O\",\"o\\\\.O\",\"O_o\",\"O\\\\.o\", \"\\\\:\\\\*\",\"\\\\;\\\\-\\\\)\",\"\\\\;\\\\)\", \"\\\\%\\\\-\\\\)\",\n",
    "               \"\\\\<3\",\"\\\\<\\\\/3\" ]\n",
    "print emoticonlist[0]"
   ]
  },
  {
   "cell_type": "code",
   "execution_count": 90,
   "metadata": {
    "collapsed": false
   },
   "outputs": [
    {
     "name": "stdout",
     "output_type": "stream",
     "text": [
      "*-*\n"
     ]
    }
   ],
   "source": [
    "#https://github.com/bear/python-twitter/blob/master/twitter/parse_tweet.py\n",
    "emoticons_pos = [\"*O\",\"*-*\",\"*O*\",\"*o*\",\"* *\",\n",
    "                \":P\",\":D\",\":d\",\":p\",\n",
    "                \";P\",\";D\",\";d\",\";p\",\n",
    "                \":-)\",\";-)\",\":=)\",\";=)\",\n",
    "                \":<)\",\":>)\",\";>)\",\";=)\",\n",
    "                \"=}\",\":)\",\"(:;)\",\n",
    "                \"(;\",\":}\",\"{:\",\";}\",\n",
    "                \"{;:]\",\n",
    "                \"[;\",\":')\",\";')\",\":-3\",\n",
    "                \"{;\",\":]\",\n",
    "                \";-3\",\":-x\",\";-x\",\":-X\",\n",
    "                \";-X\",\":-}\",\";-=}\",\":-]\",\n",
    "                \";-]\",\":-.)\",\n",
    "                \"^_^\",\"^-^\"]\n",
    "\n",
    "emoticons_neg = [\":(\",\";(\",\":'(\",\n",
    "                \"=(\",\"={\",\"):\",\");\",\n",
    "                \")':\",\")';\",\")=\",\"}=\",\n",
    "                \";-{{\",\";-{\",\":-{{\",\":-{\",\n",
    "                \":-(\",\";-(\",\n",
    "                \":,)\",\":'{\",\n",
    "                \"[:\",\";]\"\n",
    "                ]\n",
    "print emoticons_pos[1]   "
   ]
  },
  {
   "cell_type": "markdown",
   "metadata": {},
   "source": [
    "#### Perform Natural Language Processing"
   ]
  },
  {
   "cell_type": "code",
   "execution_count": null,
   "metadata": {
    "collapsed": true
   },
   "outputs": [],
   "source": [
    "#tokenize\n",
    "from pattern.en import parse\n",
    "from pattern.en import pprint\n",
    "from pattern.vector import stem, PORTER, LEMMA\n",
    "punctuation = list('.,;:!?()[]{}`''\\\"@#$^&*+-|=~_')\n"
   ]
  },
  {
   "cell_type": "code",
   "execution_count": null,
   "metadata": {
    "collapsed": true
   },
   "outputs": [],
   "source": [
    "from sklearn.feature_extraction import text \n",
    "stopwords=text.ENGLISH_STOP_WORDS"
   ]
  },
  {
   "cell_type": "code",
   "execution_count": null,
   "metadata": {
    "collapsed": true
   },
   "outputs": [],
   "source": []
  },
  {
   "cell_type": "code",
   "execution_count": null,
   "metadata": {
    "collapsed": true
   },
   "outputs": [],
   "source": []
  },
  {
   "cell_type": "code",
   "execution_count": null,
   "metadata": {
    "collapsed": true
   },
   "outputs": [],
   "source": [
    "#create column"
   ]
  }
 ],
 "metadata": {
  "kernelspec": {
   "display_name": "Python 2",
   "language": "python",
   "name": "python2"
  },
  "language_info": {
   "codemirror_mode": {
    "name": "ipython",
    "version": 2
   },
   "file_extension": ".py",
   "mimetype": "text/x-python",
   "name": "python",
   "nbconvert_exporter": "python",
   "pygments_lexer": "ipython2",
   "version": "2.7.10"
  }
 },
 "nbformat": 4,
 "nbformat_minor": 0
}
