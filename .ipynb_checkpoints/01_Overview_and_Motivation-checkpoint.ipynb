{
 "cells": [
  {
   "cell_type": "markdown",
   "metadata": {},
   "source": [
    "#Using Social Media to Study the Link between Health and Happiness\n",
    "\n",
    "#### *Based on Twitter Data*\n",
    "\n",
    "\n",
    "##A Data Science CS109 Class Project\n",
    "\n",
    "Contributors\n",
    "-----\n",
    "In alphabetical order  \n",
    "\n",
    "Alejandro Covarrubias | Jacob Lurye | Eliud Oloo | Qiu-Yue Zhong\n",
    "\n",
    "\n",
    "#  \n",
    "<div style=\"float: right; margin-left: 30px;\"><img title=\"created by Stef Gibson at StefGibson.com\"style=\"float: right;margin-left: 30px;\" src=\"http://www.massage1.com/wp-content/uploads/healthhappiness.jpg\" align=right height = 350 /><figcaption>    image source: http://www.massage1.com/wp-content/uploads/healthhappiness</figcaption></div>\n",
    "\n",
    "\n",
    "#  \n",
    "\n",
    "###MOTIVATION\n",
    "------\n",
    "We are a team with diverse backgrounds in statistics, computer science, public health and biomedical research. The motivation for this project is our common interest in applying social media and data science approaches to study and promote human health. The scientific goal of this work was to come up with a way to measure average happiness state-by state using sentiment analysis of Twitter data and then to determine how well the happiness of a state correlates with public health statistics such as morbidity, mortality, healthcare quality and other criteria.\n",
    "\n",
    "\n",
    "\n",
    "###OVERVIEW\n",
    "------\n",
    "\n",
    "It is often stated that health and happiness are closely linked. Quantifiable evidence to that effect is however hard to come by.  One of many reasons for this that happiness is an ambiguous concept -- easy to recognize in oneself but often harder to detect, much less measure, in others.  Yet, if there was ever an opportune time to make a reasonable attempt at quantifying happiness in the population, it is now.  The rapid worldwide adoption of social media platforms in recent years has tremendously increased the amount, spontaneity and frequency of human communication.   Twitter usage alone grew six orders of magnitude from 5,000 tweets per day in 2007 to 500,000,000 tweets per day in 2013 http://www.internetlivestats.com/twitter-statistics/. And because the data is recorded electronically, it has another very attractive advantage over verbal communication for a data scientist - persistence.  It is remains available to be parsed and analyzed as new analysis methods and expertise become available long after the data was generated.  Studies have shown that self-disclosure in online communication is more frequent and revealing than in face-to-face communication presumably due to anonymity and physical distance https://en.wikipedia.org/wiki/Self-disclosure.  Together, all these factors translate into the availability of huge volumes of data to work with in trying to gauge a phenomenon as nebulous as happiness.  A number of researchers have taken advantag of these characteristics of mordern online communication and attempted to measure happiness using twitter data, for example http://hedonometer.org/index.html. We therefore leveraged the experiences published by other researches to inform our approach on how go about this project. Being able to reliably measure happiness opens the door to trying to find out what the determinants of happiness in the human population are. In particular we were interested in investigate whether public health outcomes released in various government and non-profit orgabnization reports have any relationship with happiness as measured on twitter.   \n",
    "\n",
    "See our project homepage [here](http://hackersforhumanhealth.me).\n",
    "\n",
    "\n",
    "\n"
   ]
  }
 ],
 "metadata": {
  "kernelspec": {
   "display_name": "Python 2",
   "language": "python",
   "name": "python2"
  },
  "language_info": {
   "codemirror_mode": {
    "name": "ipython",
    "version": 2
   },
   "file_extension": ".py",
   "mimetype": "text/x-python",
   "name": "python",
   "nbconvert_exporter": "python",
   "pygments_lexer": "ipython2",
   "version": "2.7.10"
  }
 },
 "nbformat": 4,
 "nbformat_minor": 0
}
