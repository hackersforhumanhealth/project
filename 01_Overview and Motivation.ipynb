{
 "cells": [
  {
   "cell_type": "markdown",
   "metadata": {},
   "source": [
    "=======\n",
    "#Final Project CS109\n",
    "\n",
    "\n",
    "#Investigating The Link Between Health and Happiness?\n",
    "\n",
    "#### *Using Twitter Data*\n",
    "\n",
    "The scientific goal of this project was to come up with a way to measure average happiness state-by state using sentiment analysis of Twitter data and then to determine how well the happiness of a state correlates with public health statistics such as morbidity, mortality, healthcare quality and other criteria.\n",
    "\n",
    "<div style=\"float: right; margin-left: 30px;\"><img title=\"created by Stef Gibson at StefGibson.com\"style=\"float: right;margin-left: 30px;\" src=\"http://www.massage1.com/wp-content/uploads/healthhappiness.jpg\" align=right height = 350 /></div>\n",
    "\n",
    "\n",
    "Contents\n",
    "------\n",
    "\n",
    "See the project homepage [here](http://hackersforhumanhealth.me).\n",
    "\n",
    "\n",
    "* [**Prologue:**](http://nbviewer.ipython.org/urls/raw.github.com/CamDavidsonPilon/Probabilistic-Programming-and-Bayesian-Methods-for-Hackers/master/Prologue/Prologue.ipynb).\n",
    "\n",
    "* [**ch01_Data_Collection_And_Preparation**](ch01_Data_Collection_And_Preparation/ch01.ipynb)\n",
    "    - Inferring human b\n",
    "    \n",
    "* [**ch02_Exploratory_Data_Analysis**](ch02_Exploratory_Data_Analysis/ch02.ipynb)\n",
    "    - Det\n",
    "    \n",
    "* [**ch03_Model_Building**](ch03_Model_Building/ch03.ipynb)\n",
    "    - Bayesian clust\n",
    "    \n",
    "* [**ch04_Model_Testing_and_Selection**](ch04_Model_Testing_and_Selection/ch04.ipynb)\n",
    "    - How to sort Reddit comme\n",
    "    \n",
    "* [**ch05_Model_Deployment**](ch05_Model_Deployment/ch05.ipynb) \n",
    "    - Winning \n",
    "    \n",
    "\n",
    "Contributors\n",
    "-----\n",
    "In alphabetical order\n",
    "\n",
    "\n",
    "Authors | | | |\n",
    "--- | --- | --- | ---\n",
    "Alejandro Covarrubias |  Jacob Lurye | Eliud Oloo |Qiu-Yue Zhong\n",
    "\n",
    "\n",
    "\n"
   ]
  },
  {
   "cell_type": "code",
   "execution_count": null,
   "metadata": {
    "collapsed": true
   },
   "outputs": [],
   "source": []
  }
 ],
 "metadata": {
  "kernelspec": {
   "display_name": "Python 2",
   "language": "python",
   "name": "python2"
  },
  "language_info": {
   "codemirror_mode": {
    "name": "ipython",
    "version": 2
   },
   "file_extension": ".py",
   "mimetype": "text/x-python",
   "name": "python",
   "nbconvert_exporter": "python",
   "pygments_lexer": "ipython2",
   "version": "2.7.10"
  }
 },
 "nbformat": 4,
 "nbformat_minor": 0
}
