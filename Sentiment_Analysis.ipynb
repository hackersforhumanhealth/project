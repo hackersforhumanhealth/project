{
 "cells": [
  {
   "cell_type": "code",
   "execution_count": 2,
   "metadata": {
    "collapsed": true
   },
   "outputs": [],
   "source": [
    "%matplotlib inline\n",
    "import numpy as np\n",
    "import scipy as sp\n",
    "import matplotlib as mpl\n",
    "import matplotlib.cm as cm\n",
    "import matplotlib.pyplot as plt\n",
    "import pandas as pd\n",
    "pd.set_option('display.width', 500)\n",
    "pd.set_option('display.max_columns', 100)\n",
    "pd.set_option('display.notebook_repr_html', True)\n",
    "import seaborn as sns\n",
    "sns.set_style(\"whitegrid\")\n",
    "sns.set_context(\"poster\")\n",
    "\n",
    "#Natural Language Toolkit\n",
    "import nltk\n",
    "from nltk.corpus import stopwords"
   ]
  },
  {
   "cell_type": "code",
   "execution_count": 89,
   "metadata": {
    "collapsed": false
   },
   "outputs": [],
   "source": [
    "import json\n",
    "\n",
    "with open('small.omtm.usa.json') as infile:\n",
    "    tweet_json = json.load(infile)\n",
    "\n",
    "tweet_dict = {}\n",
    "\n",
    "#initialize columns\n",
    "for k in tweet_json[0].keys():\n",
    "    tweet_dict[k] = []\n",
    "\n",
    "#fill columns\n",
    "for l in tweet_json:\n",
    "    for tup in l.items():\n",
    "        tweet_dict[tup[0]].append(tup[1])"
   ]
  },
  {
   "cell_type": "code",
   "execution_count": 90,
   "metadata": {
    "collapsed": false
   },
   "outputs": [],
   "source": [
    "#Convert to DF\n",
    "tweet_df = pd.DataFrame(tweet_dict)\n",
    "\n",
    "#Load in the dataframe of word-happiness rankings\n",
    "sent_df = pd.DataFrame.from_csv('Data_Set_S1.txt', sep='\\t', index_col=None)\n",
    "\n",
    "#Load in stopwords\n",
    "cachedStopWords = stopwords.words(\"english\")"
   ]
  },
  {
   "cell_type": "markdown",
   "metadata": {},
   "source": [
    "Let's prepare some regular expressions to handle abbreviations that people sometimes extend for emphasis like 'lollllll' or 'lmaoooo' or 'hahaha'. (Haven't finished this yet)."
   ]
  },
  {
   "cell_type": "code",
   "execution_count": 91,
   "metadata": {
    "collapsed": false
   },
   "outputs": [],
   "source": [
    "import re\n",
    "\n",
    "#lollll -> lol. lmaoooooo -> lmao.\n",
    "emph_stem = lambda s: re.sub(r'((\\w)\\2{2,})','\\\\2', s)\n",
    "\n",
    "#this has it's own happiness rating\n",
    "lolol = lambda s: re.sub(r'lolol(ol)*', 'lolol', s)\n",
    "\n",
    "#(all three of these appear separately in the word positivity list)\n",
    "haha = lambda s: re.sub(r'[a|h]{3,4}','haha', s)\n",
    "hahaha = lambda s: re.sub(r'[a|h]{5,6}','hahaha', s)\n",
    "hahahaha = lambda s: re.sub(r'[a|h]{7,140}','hahahaha', s)\n",
    "\n",
    "def apply_re(word):\n",
    "    if lolol(word) != word:\n",
    "        return lolol(word)\n",
    "    elif haha(word) != word:\n",
    "        return haha(word)\n",
    "    elif hahaha(word) != word:\n",
    "        return hahaha(word)\n",
    "    elif hahahaha(word) != word:\n",
    "        return hahahaha(word)\n",
    "    elif emph_stem(word) != word:\n",
    "        return emph_stem(word)\n",
    "    return word"
   ]
  },
  {
   "cell_type": "markdown",
   "metadata": {},
   "source": [
    "#Let's create some functions to get simple happiness metrics for each tweet.\n",
    "\n",
    "Here's one that takes in raw tweet text, removes stopwords and punctuation (this includes emoticons, but maybe it shouldn't), and returns the tweet as a list of words."
   ]
  },
  {
   "cell_type": "code",
   "execution_count": 92,
   "metadata": {
    "collapsed": false
   },
   "outputs": [],
   "source": [
    "def tweet_to_list(tweet):\n",
    "    \n",
    "    tweet_list = nltk.tokenize.word_tokenize(tweet)\n",
    "    tweet_list = [word.lower() for word in tweet_list if word.isalpha()]\n",
    "    \n",
    "    cachedStopWords.append('https')\n",
    "    tweet_list = [word for word in tweet_list if word not in cachedStopWords]\n",
    "    tweet_list = [apply_re(word) for word in tweet_list]\n",
    "    \n",
    "    return tweet_list"
   ]
  },
  {
   "cell_type": "markdown",
   "metadata": {},
   "source": [
    "The function avg_happiness takes in the list of words in a tweet, obtains the frequency distribution of each word, then calculates a weighted average \"happiness\" score based on each word's happiness rating (from Data_Set_S1)."
   ]
  },
  {
   "cell_type": "code",
   "execution_count": 93,
   "metadata": {
    "collapsed": true
   },
   "outputs": [],
   "source": [
    "def avg_happiness(text_list):\n",
    "    freqdist = nltk.FreqDist(text_list).items()\n",
    "    \n",
    "    happ_sum = 0\n",
    "    count = 0\n",
    "    \n",
    "    for i in freqdist:\n",
    "        word_row = sent_df[sent_df.word == i[0]]\n",
    "        happ_score = word_row.happiness_average.values\n",
    "        for i in happ_score:\n",
    "            happ_sum += int(i)\n",
    "            count += 1\n",
    "            \n",
    "    if count == 0:\n",
    "        return None\n",
    "    \n",
    "    happ_frac float(happ_sum)/count"
   ]
  },
  {
   "cell_type": "markdown",
   "metadata": {},
   "source": [
    "Now create a new row in tweet_df with happiness scores for each tweet. Note that with only around 35,000 tweets, the following takes ~30 minutes to run. This means that we probably shouldn't use all of the million+ tweets we're collecting — rather, we should probably try to sample a reasonable, equal number of tweets from each state in the hopes of obtaining balanced representation (i.e., excluding some tweets from the more twitter-heavy states once we have enough overall)."
   ]
  },
  {
   "cell_type": "code",
   "execution_count": 94,
   "metadata": {
    "collapsed": false
   },
   "outputs": [
    {
     "name": "stdout",
     "output_type": "stream",
     "text": [
      "CPU times: user 2 µs, sys: 0 ns, total: 2 µs\n",
      "Wall time: 5.01 µs\n"
     ]
    }
   ],
   "source": [
    "%time\n",
    "\n",
    "happiness_score = lambda tweet: avg_happiness(tweet_to_list(tweet))\n",
    "tweet_df['happ_scores'] = pd.Series(tweet_df.ttext_cleand.apply(happiness_score))"
   ]
  },
  {
   "cell_type": "code",
   "execution_count": 95,
   "metadata": {
    "collapsed": false
   },
   "outputs": [],
   "source": [
    "#remove tweets with NaN happiness scores\n",
    "tweet_df.dropna(inplace=True)"
   ]
  },
  {
   "cell_type": "code",
   "execution_count": 124,
   "metadata": {
    "collapsed": false
   },
   "outputs": [
    {
     "data": {
      "text/plain": [
       "{u'AK': 5.0938856657436604,\n",
       " u'AL': 5.1728599859795743,\n",
       " u'AR': 5.2347587562214697,\n",
       " u'AZ': 5.2160080705986402,\n",
       " u'C1': 4.5454545454545459,\n",
       " u'CA': 5.1992505248993783,\n",
       " u'CO': 5.2314900550998811,\n",
       " u'CT': 5.1540412866353549,\n",
       " u'Co': 5.6432539682539691,\n",
       " u'DC': 5.127942234828196,\n",
       " u'DE': 5.1186952053548698,\n",
       " u'FL': 5.1597567998251721,\n",
       " u'Fu': 5.25,\n",
       " u'GA': 5.1303587866083573,\n",
       " u'HI': 5.1925207662707695,\n",
       " u'HQ': 5.1791666666666663,\n",
       " u'IA': 5.1014636022308677,\n",
       " u'ID': 5.2557282747994227,\n",
       " u'IL': 5.1768152940533918,\n",
       " u'IN': 5.2066100054664837,\n",
       " u'KS': 5.2482477112672745,\n",
       " u'KY': 5.1746986283918091,\n",
       " u'LA': 5.0608009396292468,\n",
       " u'MA': 5.2085517623416981,\n",
       " u'MD': 5.1125937043422889,\n",
       " u'ME': 5.2307656781557865,\n",
       " u'MI': 5.1556551296283493,\n",
       " u'MN': 5.2259068435506091,\n",
       " u'MO': 5.191238221582112,\n",
       " u'MS': 5.1906060178389435,\n",
       " u'MT': 5.2803171627913894,\n",
       " u'NC': 5.1808012483163202,\n",
       " u'ND': 5.2836547824352689,\n",
       " u'NE': 5.2192696941506451,\n",
       " u'NH': 5.1849224674696357,\n",
       " u'NJ': 5.1602668448331652,\n",
       " u'NM': 5.2607217340877499,\n",
       " u'NV': 5.1396460656628093,\n",
       " u'NY': 5.1664852741370648,\n",
       " u'OH': 5.1835865497382283,\n",
       " u'OK': 5.198146434155948,\n",
       " u'OR': 5.2505488514381184,\n",
       " u'PA': 5.1772476750853311,\n",
       " u'RI': 5.1582749150931004,\n",
       " u'SC': 5.1689706685067502,\n",
       " u'SD': 5.1326092558235423,\n",
       " u'TN': 5.2063216295778982,\n",
       " u'TX': 5.1204738312430811,\n",
       " u'UT': 5.2157391361859302,\n",
       " u'VA': 5.1841211977431678,\n",
       " u'VT': 5.3601095993953143,\n",
       " u'WA': 5.1660530882710907,\n",
       " u'WI': 5.2229835757372056,\n",
       " u'WV': 5.138882055995154,\n",
       " u'WY': 5.1820004070004071,\n",
       " u'XD': 5.5714285714285712,\n",
       " u'dr': 5.0,\n",
       " u'nc': 5.875}"
      ]
     },
     "execution_count": 124,
     "metadata": {},
     "output_type": "execute_result"
    }
   ],
   "source": [
    "state_avg_happ = {}\n",
    "\n",
    "for state in tweet_df.state.unique():\n",
    "    try:\n",
    "        int(state)\n",
    "    except:\n",
    "        if len(state) != 2:\n",
    "            continue\n",
    "        state_col = tweet_df[tweet_df.state==state].happ_scores\n",
    "        state_avg = np.mean(state_col)\n",
    "        state_avg_happ[state] = np.mean(state_avg)"
   ]
  },
  {
   "cell_type": "code",
   "execution_count": 126,
   "metadata": {
    "collapsed": false
   },
   "outputs": [
    {
     "data": {
      "text/plain": [
       "<matplotlib.text.Text at 0x10e790f10>"
      ]
     },
     "execution_count": 126,
     "metadata": {},
     "output_type": "execute_result"
    },
    {
     "data": {
      "image/png": "[encoded data removed]",
      "text/plain": [
       "<matplotlib.figure.Figure at 0x1262bbc90>"
      ]
     },
     "metadata": {},
     "output_type": "display_data"
    }
   ],
   "source": [
    "ax = sns.distplot(state_avg_happ.values())\n",
    "ax.set_title('Distribution of Happiness Scores')"
   ]
  },
  {
   "cell_type": "code",
   "execution_count": 37,
   "metadata": {
    "collapsed": false
   },
   "outputs": [
    {
     "name": "stdout",
     "output_type": "stream",
     "text": [
      "Ratio positive tweets in New York: 0.472920085848\n",
      "Ratio positive tweets in Louisiana: 0.386697602475\n"
     ]
    }
   ],
   "source": [
    "def norm(col):\n",
    "    return (col - np.mean(col))/(max(col) - min(col))\n",
    "\n",
    "tweet_df['norm_happ'] = norm(tweet_df.happ_scores)\n",
    "\n",
    "#add boolean tweet positivity indicator\n",
    "tweet_df['bool_happ'] = pd.Series(tweet_df.norm_happ > 0)\n",
    "\n",
    "print 'Ratio positive tweets in New York: ' + str(np.mean(tweet_df[tweet_df.state=='NY'].bool_happ))\n",
    "print 'Ratio positive tweets in Louisiana: ' + str(np.mean(tweet_df[tweet_df.state=='LA'].bool_happ))"
   ]
  },
  {
   "cell_type": "code",
   "execution_count": 35,
   "metadata": {
    "collapsed": false
   },
   "outputs": [],
   "source": [
    "#add separate lat/long columns for viz purposes\n",
    "tweet_df['lat'] = tweet_df.coords.apply(lambda r: r.split(',')[0])\n",
    "tweet_df['long'] = tweet_df.coords.apply(lambda r: r.split(',')[-1])"
   ]
  },
  {
   "cell_type": "code",
   "execution_count": 126,
   "metadata": {
    "collapsed": true
   },
   "outputs": [],
   "source": [
    "#save to csv\n",
    "tweet_df.to_csv('tweets_w_sent_swears.csv', encoding='utf-8')"
   ]
  },
  {
   "cell_type": "code",
   "execution_count": 87,
   "metadata": {
    "collapsed": true
   },
   "outputs": [],
   "source": [
    "#load the df back in\n",
    "with open('tweets_w_sent_swears.csv','r') as infile:\n",
    "    tweet_df = pd.read_csv(infile, index_col=0)"
   ]
  },
  {
   "cell_type": "code",
   "execution_count": 125,
   "metadata": {
    "collapsed": false
   },
   "outputs": [],
   "source": [
    "tweet_df['Happy?'] = pd.Series(tweet_df.norm_happ > 0)"
   ]
  },
  {
   "cell_type": "code",
   "execution_count": 122,
   "metadata": {
    "collapsed": false
   },
   "outputs": [
    {
     "data": {
      "text/plain": [
       "{\"'s)\": [6.75, True],\n",
       " '.C.': [5.0, False],\n",
       " '028': [4.75, False],\n",
       " '102': [5.33333333333, True],\n",
       " '106': [5.0, False],\n",
       " '113': [5.0, False],\n",
       " '127': [5.598214285715001, True],\n",
       " '16': [5.4393939393899995, True],\n",
       " '18': [5.1428571428600005, False],\n",
       " '201': [5.75, True],\n",
       " '24': [5.28571428571, True],\n",
       " '413': [5.36363636364, True],\n",
       " '59': [6.0, True],\n",
       " ':ND': [5.33333333333, True],\n",
       " 'AC)': [5.5, True],\n",
       " 'AD)': [5.5, True],\n",
       " 'AK': [5.093885665743834, False],\n",
       " 'AL': [5.172859985979578, False],\n",
       " 'AN)': [5.3, True],\n",
       " 'AR': [5.234758756221477, True],\n",
       " 'AS)': [5.833333333335, True],\n",
       " 'AX)': [4.75, False],\n",
       " 'AZ': [5.21600807059855, True],\n",
       " 'Adacao': [4.6, False],\n",
       " 'Agana Heights': [7.0, True],\n",
       " 'Alabama': [5.2227624897540945, True],\n",
       " 'Alaska': [5.125230566535217, False],\n",
       " 'Are': [6.333333333330001, True],\n",
       " 'Arizona': [5.168088943811561, False],\n",
       " 'Arkansas': [5.208964646464638, True],\n",
       " 'Art': [5.6, True],\n",
       " 'Astumbo': [4.983333333333333, False],\n",
       " 'BI)': [5.4, True],\n",
       " 'BRE': [5.4, True],\n",
       " 'Bar': [5.48055555555625, True],\n",
       " 'Barrigada': [5.75, True],\n",
       " 'Barrigada Heights': [4.5, False],\n",
       " 'C1': [4.54545454545, False],\n",
       " 'CA': [5.199250524899357, True],\n",
       " 'CA)': [5.0, False],\n",
       " 'CC)': [5.75, True],\n",
       " 'CNY': [6.25, True],\n",
       " 'CO': [5.231490055099929, True],\n",
       " 'CT': [5.154041286635347, False],\n",
       " 'California': [5.163161648957108, False],\n",
       " 'Calif\\xc3\\xb3rnia': [4.540740740741111, False],\n",
       " 'Carolina del Norte': [4.65, False],\n",
       " 'Co': [5.643253968254999, True],\n",
       " 'Co.': [5.283333333333333, True],\n",
       " 'Colorado': [5.296701713849675, True],\n",
       " 'Connecticut': [5.242007411193488, True],\n",
       " 'Cup': [5.375, True],\n",
       " 'DC': [5.127942234828286, False],\n",
       " 'DDS': [4.71428571429, False],\n",
       " 'DE': [5.11869520535479, False],\n",
       " 'DFW': [5.33333333333, True],\n",
       " 'Dakota del Norte': [4.416666666665, False],\n",
       " 'Dam': [5.8571428571399995, True],\n",
       " 'Dededo': [6.5, True],\n",
       " 'Delaware': [5.084043418267623, False],\n",
       " 'District of Columbia': [5.148148148149999, False],\n",
       " 'E-B': [5.0, False],\n",
       " 'ER)': [5.33333333333, True],\n",
       " 'FK)': [4.7, False],\n",
       " 'FL': [5.159756799825182, False],\n",
       " 'FO)': [4.291666666666667, False],\n",
       " 'FW)': [5.0, False],\n",
       " 'Florida': [5.183422274247599, True],\n",
       " 'Fu': [5.25, True],\n",
       " 'GA': [5.130358786608365, False],\n",
       " 'Gas': [5.0, False],\n",
       " 'Georgia': [5.137239038608303, False],\n",
       " 'Gym': [5.42857142857, True],\n",
       " 'HI': [5.1925207662707304, True],\n",
       " 'HOP': [5.42857142857, True],\n",
       " 'HQ': [5.179166666666666, True],\n",
       " 'Hawaii': [5.134670150111176, False],\n",
       " 'Hut': [5.0, False],\n",
       " 'IA': [5.101463602230704, False],\n",
       " 'IA)': [5.5, True],\n",
       " 'ID': [5.255728274799606, True],\n",
       " 'IL': [5.176815294053393, True],\n",
       " 'IN': [5.20661000546645, True],\n",
       " 'INC': [5.2, True],\n",
       " 'IRO': [6.0, True],\n",
       " 'ISE': [5.0, False],\n",
       " 'ITH': [5.0, False],\n",
       " 'Idaho': [5.187159137158975, True],\n",
       " 'Illinois': [5.189496441829712, True],\n",
       " 'Inc': [3.0, False],\n",
       " 'Indiana': [5.279030468778994, True],\n",
       " 'Inn': [5.208333333335, True],\n",
       " 'Iowa': [5.136256499251849, False],\n",
       " 'KS': [5.2482477112673, True],\n",
       " 'KY': [5.174698628391756, False],\n",
       " 'Kansas': [5.171535477101475, False],\n",
       " 'Kentucky': [5.197498012211577, True],\n",
       " 'LA': [5.060800939629248, False],\n",
       " 'LE)': [5.375, True],\n",
       " 'LL)': [5.0, False],\n",
       " 'LLC': [5.88888888889, True],\n",
       " 'Lab': [5.466666666666666, True],\n",
       " 'Lan': [5.1428571428600005, False],\n",
       " 'Louisiana': [5.131741048407807, False],\n",
       " 'Luisiana': [4.66666666667, False],\n",
       " 'MA': [5.208551762341703, True],\n",
       " 'MA)': [4.66666666667, False],\n",
       " 'MD': [5.1125937043423155, False],\n",
       " 'ME': [5.230765678155717, True],\n",
       " 'MH)': [5.52222222222, True],\n",
       " 'MI': [5.155643069560214, False],\n",
       " 'MN': [5.225906843550739, True],\n",
       " 'MO': [5.1912382215821085, True],\n",
       " 'MS': [5.190606017838864, True],\n",
       " 'MT': [5.280317162791341, True],\n",
       " 'Maina': [5.444444444445001, True],\n",
       " 'Maine': [5.241071582738204, True],\n",
       " 'Maite': [5.0, False],\n",
       " 'Mangilao': [4.916666666666667, False],\n",
       " 'Maryland': [5.193309865752325, True],\n",
       " 'Massachusetts': [5.269943957009129, True],\n",
       " 'Michigan': [5.176093183977385, True],\n",
       " 'Minnesota': [5.402260787764876, True],\n",
       " 'Mississippi': [5.137422921905665, False],\n",
       " 'Missouri': [5.17066165101037, False],\n",
       " 'Montana': [5.196970985364286, True],\n",
       " 'NC': [5.180801248316307, True],\n",
       " 'ND': [5.283654782435365, True],\n",
       " 'NE': [5.219269694150727, True],\n",
       " 'NH': [5.184922467469591, True],\n",
       " 'NJ': [5.1602668448331945, False],\n",
       " 'NM': [5.260721734087691, True],\n",
       " 'NV': [5.139646065662819, False],\n",
       " 'NY': [5.166485274137053, False],\n",
       " 'NYC': [5.1875, True],\n",
       " 'Nebraska': [5.053975322922843, False],\n",
       " 'Nevada': [5.128497705269176, False],\n",
       " 'New Hampshire': [5.215699506679073, True],\n",
       " 'New Jersey': [5.238321746602553, True],\n",
       " 'New Mexico': [5.3540922619049995, True],\n",
       " 'New York': [5.189148757489209, True],\n",
       " 'North Carolina': [5.261000157822278, True],\n",
       " 'North Dakota': [5.0979662698410415, False],\n",
       " 'Nova Iorque': [4.434338624337999, False],\n",
       " 'Nueva York': [4.430774410774001, False],\n",
       " 'Nuevo M\\xc3\\xa9xico': [4.16666666667, False],\n",
       " 'OH': [5.183586549738241, True],\n",
       " 'OK': [5.198146434155959, True],\n",
       " 'OR': [5.250548851438184, True],\n",
       " 'Ohio': [5.260376196427408, True],\n",
       " 'Oka': [5.208333333335, True],\n",
       " 'Oklahoma': [5.222875319665332, True],\n",
       " 'Oregon': [5.319776529776434, True],\n",
       " 'Oreg\\xc3\\xb3n': [5.294603174602, True],\n",
       " 'PA': [5.1772476750853205, True],\n",
       " 'PBS': [5.42857142857, True],\n",
       " 'PCH': [5.0, False],\n",
       " 'PIE': [4.5, False],\n",
       " 'Pennsylvania': [5.234447199897717, True],\n",
       " 'Pensilvania': [4.5392857142850005, False],\n",
       " 'Pensilv\\xc3\\xa2nia': [4.4, False],\n",
       " 'Pub': [4.66666666667, False],\n",
       " 'Puerto Rico': [4.767604617604546, False],\n",
       " 'RD)': [5.42857142857, True],\n",
       " 'RF)': [5.25, True],\n",
       " 'RI': [5.158274915093118, False],\n",
       " 'Rhode Island': [5.143818827371843, False],\n",
       " 'Rim': [6.333333333330001, True],\n",
       " 'Run': [5.0, False],\n",
       " 'SC': [5.168970668506815, False],\n",
       " 'SD': [5.132609255823979, False],\n",
       " 'South Carolina': [5.165114387118673, False],\n",
       " 'South Dakota': [5.085651629072106, False],\n",
       " 'Spa': [5.516496598638571, True],\n",
       " 'T&T': [5.44444444444, True],\n",
       " 'TN': [5.206321629577836, True],\n",
       " 'TX': [5.12047383124303, False],\n",
       " 'Tamuning': [4.6851851851844435, False],\n",
       " 'Tennessee': [5.240104697898838, True],\n",
       " 'Texas': [5.133951944288379, False],\n",
       " 'True': [nan, False],\n",
       " 'UF)': [5.8, True],\n",
       " 'US)': [5.16666666667, False],\n",
       " 'UT': [5.21573913618584, True],\n",
       " 'Utah': [5.251289682540155, True],\n",
       " 'VA': [5.184121197743132, True],\n",
       " 'VSU': [5.5, True],\n",
       " 'VT': [5.36010959939492, True],\n",
       " 'Vermont': [5.358456374975, True],\n",
       " 'Virgin Islands': [5.933333333333334, True],\n",
       " 'Virginia': [5.202764931611789, True],\n",
       " 'WA': [5.166053088271036, False],\n",
       " 'WI': [5.222983575737234, True],\n",
       " 'WR)': [5.0, False],\n",
       " 'WV': [5.138882055995193, False],\n",
       " 'WY': [5.182000407, True],\n",
       " 'Washington': [5.185959104087393, True],\n",
       " 'West Virginia': [5.139182442687196, False],\n",
       " 'Wisconsin': [5.156482101142296, False],\n",
       " 'Wyoming': [5.0434458874452, False],\n",
       " 'XD': [5.57142857143, True],\n",
       " 'Yigo': [5.069444444445, False],\n",
       " 'Zoo': [5.2, True],\n",
       " 'a \\xf0\\x9f\\x8c\\xb4': [6.0, True],\n",
       " 'ace': [4.595238095235, False],\n",
       " 'ach': [5.433333333333334, True],\n",
       " 'ack': [4.82142857143, False],\n",
       " 'acy': [5.0, False],\n",
       " 'ade': [4.8, False],\n",
       " 'ado': [5.75, True],\n",
       " 'afe': [5.203703703703334, True],\n",
       " 'age': [5.5694444444433335, True],\n",
       " 'ago': [5.30710978836, True],\n",
       " 'ail': [5.25, True],\n",
       " 'ain': [5.11111111111, False],\n",
       " 'air': [5.5, True],\n",
       " 'ake': [5.27777777778, True],\n",
       " 'ale': [4.7375, False],\n",
       " 'all': [5.395833333332501, True],\n",
       " 'and': [5.298475355054211, True],\n",
       " 'ant': [5.3500000000000005, True],\n",
       " 'any': [4.840000000000001, False],\n",
       " 'apy': [5.0, False],\n",
       " 'ara': [6.166666666666667, True],\n",
       " 'are': [5.3, True],\n",
       " 'ari': [5.0, False],\n",
       " 'ark': [5.31186696901, True],\n",
       " 'arm': [5.25, True],\n",
       " 'arn': [5.4, True],\n",
       " 'art': [5.33333333333, True],\n",
       " 'ary': [5.474166666666001, True],\n",
       " 'ase': [6.333333333330001, True],\n",
       " 'aso': [5.0, False],\n",
       " 'aws': [6.0, True],\n",
       " 'aza': [5.330555555556667, True],\n",
       " \"b's\": [7.0, True],\n",
       " 'ble': [4.0, False],\n",
       " 'bus': [5.5, True],\n",
       " 'cci': [5.2, True],\n",
       " 'ces': [5.0, False],\n",
       " 'che': [4.33333333333, False],\n",
       " 'cks': [5.44925595238, True],\n",
       " 'cky': [3.6, False],\n",
       " \"d's\": [4.8333333333325, False],\n",
       " 'den': [5.555555555555, True],\n",
       " 'des': [5.0, False],\n",
       " 'dge': [5.45064102564077, True],\n",
       " 'dio': [5.666666666665, True],\n",
       " 'dom': [6.1, True],\n",
       " 'dos': [5.435629509379423, True],\n",
       " 'dr': [5.0, False],\n",
       " 'dro': [4.55555555556, False],\n",
       " 'dry': [5.0, False],\n",
       " 'e C': [5.2, True],\n",
       " \"e's\": [5.533333333333334, True],\n",
       " 'ead': [5.080357142855, False],\n",
       " 'eal': [5.5, True],\n",
       " 'eam': [5.0, False],\n",
       " 'ean': [5.71111111111, True],\n",
       " 'eap': [5.666666666669999, True],\n",
       " 'ect': [4.5, False],\n",
       " 'eek': [6.333333333330001, True],\n",
       " 'een': [4.5, False],\n",
       " 'ege': [5.337225274725, True],\n",
       " 'ego': [5.711428571428, True],\n",
       " 'eld': [5.55555555556, True],\n",
       " 'ele': [5.0, False],\n",
       " 'eli': [5.5, True],\n",
       " 'ema': [5.666666666669999, True],\n",
       " 'emy': [5.11111111111, False],\n",
       " 'ena': [5.631944444445, True],\n",
       " 'ene': [5.125, False],\n",
       " 'eno': [4.75, False],\n",
       " 'ens': [5.133333333332222, False],\n",
       " 'erg': [5.35, True],\n",
       " 'ern': [5.5, True],\n",
       " 'ero': [5.222222222219999, True],\n",
       " 'ers': [5.561011904761666, True],\n",
       " 'ery': [5.43645833333375, True],\n",
       " 'es)': [6.0, True],\n",
       " 'ess': [5.314814814813333, True],\n",
       " 'est': [6.0, True],\n",
       " 'eta': [6.5, True],\n",
       " 'ets': [4.733333333335, False],\n",
       " 'eum': [5.358333333332499, True],\n",
       " 'eya': [6.333333333330001, True],\n",
       " 'fee': [5.333333333333333, True],\n",
       " 'fer': [6.5, True],\n",
       " 'ff\\xc3\\xa9': [4.375, False],\n",
       " 'fic': [6.0, True],\n",
       " 'gas': [5.33333333333, True],\n",
       " 'ger': [5.0, False],\n",
       " 'get': [4.535714285715001, False],\n",
       " 'ght': [5.33333333333, True],\n",
       " 'gis': [4.2, False],\n",
       " 'gns': [5.16666666667, False],\n",
       " 'gue': [6.5, True],\n",
       " 'hen': [5.759259259259999, True],\n",
       " 'hia': [5.269345238095001, True],\n",
       " 'hio': [4.1428571428600005, False],\n",
       " 'hip': [6.166666666669999, True],\n",
       " 'his': [5.666666666669999, True],\n",
       " 'hop': [4.875, False],\n",
       " 'how': [5.75, True],\n",
       " 'ial': [5.71428571429, True],\n",
       " 'ias': [5.0, False],\n",
       " 'ica': [5.871875000000001, True],\n",
       " 'ice': [5.772727272725, True],\n",
       " 'ick': [5.142857142855, False],\n",
       " 'ico': [4.742382725150001, False],\n",
       " 'ics': [4.75, False],\n",
       " 'ict': [5.25, True],\n",
       " 'ide': [5.75, True],\n",
       " 'ier': [5.72727272727, True],\n",
       " 'ies': [5.71428571429, True],\n",
       " 'iew': [5.839133089135, True],\n",
       " 'ild': [5.0, False],\n",
       " 'ill': [4.943434343433751, False],\n",
       " 'ilo': [5.33333333333, True],\n",
       " 'ils': [5.3125, True],\n",
       " 'imo': [5.0, False],\n",
       " 'ina': [5.5, True],\n",
       " 'ine': [6.375, True],\n",
       " 'ing': [5.280423280422222, True],\n",
       " 'ino': [4.1875, False],\n",
       " 'int': [5.75, True],\n",
       " 'ion': [5.345740740740667, True],\n",
       " 'ios': [5.783333333333334, True],\n",
       " 'iot': [4.0, False],\n",
       " 'ise': [5.0, False],\n",
       " 'iti': [6.25, True],\n",
       " 'its': [5.125, False],\n",
       " 'ity': [5.320103896104, True],\n",
       " 'ium': [5.318154761905001, True],\n",
       " \"k's\": [5.0, False],\n",
       " 'kee': [4.98148148148, False],\n",
       " 'kes': [4.965384615385, False],\n",
       " 'ket': [5.264583333335, True],\n",
       " 'kif': [5.666666666669999, True],\n",
       " 'las': [5.439153439153333, True],\n",
       " 'les': [5.194702123272857, True],\n",
       " 'lex': [5.0, False],\n",
       " 'lia': [5.25, True],\n",
       " 'lip': [5.2, True],\n",
       " 'lle': [5.313447971781112, True],\n",
       " 'llo': [5.33333333333, True],\n",
       " 'lor': [5.833333333330001, True],\n",
       " 'lto': [5.24821428571375, True],\n",
       " 'lub': [5.722222222221999, True],\n",
       " 'lux': [5.222222222219999, True],\n",
       " 'lyn': [5.342096560846667, True],\n",
       " 'ma)': [5.75, True],\n",
       " \"n's\": [5.0, False],\n",
       " 'nal': [5.5, True],\n",
       " 'nc': [5.875, True],\n",
       " 'nc.': [5.0, False],\n",
       " 'nce': [5.1, False],\n",
       " 'nch': [5.33333333333, True],\n",
       " 'nd\"': [4.75, False],\n",
       " 'nds': [4.975485008818334, False],\n",
       " 'ner': [6.5, True],\n",
       " 'nes': [4.916666666665, False],\n",
       " 'net': [5.6, True],\n",
       " 'nge': [5.5, True],\n",
       " 'ngs': [5.496392496392857, True],\n",
       " 'nic': [5.357142857145, True],\n",
       " 'nio': [5.33333333333, True],\n",
       " 'nis': [4.98278943278909, False],\n",
       " 'nry': [5.375, True],\n",
       " 'nta': [5.171207264956667, False],\n",
       " 'nte': [5.30303030303, True],\n",
       " 'nto': [5.1428571428600005, False],\n",
       " 'nts': [5.36111111111125, True],\n",
       " 'nue': [5.77777777778, True],\n",
       " \"o's\": [5.57142857143, True],\n",
       " 'oad': [6.333333333330001, True],\n",
       " 'oca': [5.0, False],\n",
       " 'ods': [6.25, True],\n",
       " 'oft': [5.6, True],\n",
       " 'oit': [5.241666666666, True],\n",
       " 'oke': [5.666666666669999, True],\n",
       " 'oks': [5.375, True],\n",
       " 'ols': [5.0, False],\n",
       " 'oma': [4.83333333333, False],\n",
       " 'omo': [5.0, False],\n",
       " 'ond': [5.0, False],\n",
       " 'one': [4.32142857143, False],\n",
       " 'ong': [4.66666666667, False],\n",
       " 'ons': [5.133333333333334, False],\n",
       " 'onx': [5.206299603174374, True],\n",
       " 'ood': [5.10238095238, False],\n",
       " 'ool': [5.362995836073077, True],\n",
       " 'oom': [5.375, True],\n",
       " 'ora': [5.0, False],\n",
       " 'ord': [4.941414141414, False],\n",
       " 'ore': [5.497138047137778, True],\n",
       " 'ork': [4.8571428571399995, False],\n",
       " 'ors': [6.0, True],\n",
       " 'ort': [5.74, True],\n",
       " 'ory': [5.0, False],\n",
       " 'ose': [5.395042259327143, True],\n",
       " 'oss': [5.33333333333, True],\n",
       " 'ost': [3.0, False],\n",
       " 'ota': [5.6, True],\n",
       " 'ott': [4.66666666667, False],\n",
       " 'oup': [5.420454545455, True],\n",
       " 'ous': [5.75, True],\n",
       " 'oux': [6.0, True],\n",
       " 'own': [5.144444444443333, False],\n",
       " 'ows': [6.0, True],\n",
       " 'ple': [5.416666666666667, True],\n",
       " 'ply': [5.11111111111, False],\n",
       " 'pot': [5.729166666665, True],\n",
       " 'ppe': [5.0, False],\n",
       " 'pre': [6.2, True],\n",
       " 'pus': [5.0, False],\n",
       " 'que': [5.183333333335, True],\n",
       " 'r 4': [5.4, True],\n",
       " \"r's\": [6.5, True],\n",
       " 'ral': [6.0, True],\n",
       " 'rch': [5.548611111111666, True],\n",
       " 'rds': [6.22222222222, True],\n",
       " 'rea': [5.392857142855, True],\n",
       " 'ren': [4.66666666667, False],\n",
       " 'res': [5.1, False],\n",
       " 'ret': [5.75, True],\n",
       " 'ria': [5.45625, True],\n",
       " 'rie': [5.28571428571, True],\n",
       " 'rip': [5.0, False],\n",
       " 'rls': [5.33333333333, True],\n",
       " 'rse': [5.5, True],\n",
       " 'rth': [5.4126984127, True],\n",
       " 'rts': [5.598452380953001, True],\n",
       " 'rub': [5.0, False],\n",
       " 'rve': [5.11111111111, False],\n",
       " 'sco': [5.331842515450847, True],\n",
       " 'sis': [6.0, True],\n",
       " 'son': [5.422294372294, True],\n",
       " 'sse': [4.909090909090001, False],\n",
       " 'tal': [5.331944444442501, True],\n",
       " 'tan': [5.239006879196834, True],\n",
       " 'tco': [6.5, True],\n",
       " 'tel': [5.7410714285725, True],\n",
       " 'ten': [4.9714285714275, False],\n",
       " 'ter': [5.332068001443502, True],\n",
       " 'tes': [5.366318041410897, True],\n",
       " 'tic': [5.0, False],\n",
       " 'tin': [5.365079365079285, True],\n",
       " 'tle': [5.046279220779399, False],\n",
       " 'ton': [5.1484618916439775, False],\n",
       " 'top': [5.33333333333, True],\n",
       " 'tre': [5.233333333332, True],\n",
       " 'tro': [5.625, True],\n",
       " 'try': [4.0, False],\n",
       " 'tte': [5.216666666666, True],\n",
       " 'tum': [6.0, True],\n",
       " 'uar': [5.2, True],\n",
       " 'uck': [5.692307692309999, True],\n",
       " 'uka': [4.5, False],\n",
       " 'umi': [6.0, True],\n",
       " 'ure': [5.8, True],\n",
       " 'urt': [4.0, False],\n",
       " 'use': [5.410858585858183, True],\n",
       " 'ute': [5.6363636363600005, True],\n",
       " 'uto': [5.0, False],\n",
       " 'uty': [6.0, True],\n",
       " 'uys': [5.0, False],\n",
       " 'ver': [5.17196969697, False],\n",
       " 'ves': [5.5, True],\n",
       " 'vue': [5.416666666665, True],\n",
       " 'way': [5.45238095238, True],\n",
       " 'wer': [5.353571428572001, True],\n",
       " \"y's\": [4.88888888889, False],\n",
       " 'zza': [5.833333333333333, True]}"
      ]
     },
     "execution_count": 122,
     "metadata": {},
     "output_type": "execute_result"
    }
   ],
   "source": [
    "#create dictionary mapping states to state happiness scores/bools\n",
    "state_happiness = {}\n",
    "\n",
    "#overall average happiness\n",
    "hbar = np.mean(tweet_df.happ_scores)\n",
    "\n",
    "for state in tweet_df.state.unique():\n",
    "    state_avg = np.mean(tweet_df[tweet_df.state == state].happ_scores)\n",
    "    state_bool = state_avg > hbar\n",
    "    state_happiness[state] = [state_avg, state_bool]\n",
    "\n",
    "state_happiness"
   ]
  },
  {
   "cell_type": "code",
   "execution_count": 54,
   "metadata": {
    "collapsed": false
   },
   "outputs": [],
   "source": [
    "#load in list of profane words:\n",
    "with open('swearWords.csv', 'r') as infile:\n",
    "    swear_list = pd.read_csv(infile)\n",
    "    \n",
    "swear_list = list(swear_list.columns.values)"
   ]
  },
  {
   "cell_type": "code",
   "execution_count": 79,
   "metadata": {
    "collapsed": false
   },
   "outputs": [
    {
     "ename": "KeyboardInterrupt",
     "evalue": "",
     "output_type": "error",
     "traceback": [
      "\u001b[0;31m---------------------------------------------------------------------------\u001b[0m",
      "\u001b[0;31mKeyboardInterrupt\u001b[0m                         Traceback (most recent call last)",
      "\u001b[0;32m<ipython-input-79-b66d5bfe0dcb>\u001b[0m in \u001b[0;36m<module>\u001b[0;34m()\u001b[0m\n\u001b[1;32m      9\u001b[0m \u001b[0;34m\u001b[0m\u001b[0m\n\u001b[1;32m     10\u001b[0m \u001b[0mswears\u001b[0m \u001b[0;34m=\u001b[0m \u001b[0mtweet_df\u001b[0m\u001b[0;34m.\u001b[0m\u001b[0mttext_cleand\u001b[0m\u001b[0;34m.\u001b[0m\u001b[0mapply\u001b[0m\u001b[0;34m(\u001b[0m\u001b[0mswear_check\u001b[0m\u001b[0;34m)\u001b[0m\u001b[0;34m\u001b[0m\u001b[0m\n\u001b[0;32m---> 11\u001b[0;31m \u001b[0mavg_swears\u001b[0m \u001b[0;34m=\u001b[0m \u001b[0mtweet_df\u001b[0m\u001b[0;34m.\u001b[0m\u001b[0mstate\u001b[0m\u001b[0;34m.\u001b[0m\u001b[0mapply\u001b[0m\u001b[0;34m(\u001b[0m\u001b[0;32mlambda\u001b[0m \u001b[0ms\u001b[0m\u001b[0;34m:\u001b[0m \u001b[0mnp\u001b[0m\u001b[0;34m.\u001b[0m\u001b[0mmean\u001b[0m\u001b[0;34m(\u001b[0m\u001b[0mtweet_df\u001b[0m\u001b[0;34m[\u001b[0m\u001b[0mtweet_df\u001b[0m\u001b[0;34m.\u001b[0m\u001b[0mstate\u001b[0m\u001b[0;34m==\u001b[0m\u001b[0ms\u001b[0m\u001b[0;34m]\u001b[0m\u001b[0;34m.\u001b[0m\u001b[0mswears\u001b[0m\u001b[0;34m)\u001b[0m\u001b[0;34m)\u001b[0m\u001b[0;34m\u001b[0m\u001b[0m\n\u001b[0m",
      "\u001b[0;32m/Users/user/anaconda/lib/python2.7/site-packages/pandas/core/series.pyc\u001b[0m in \u001b[0;36mapply\u001b[0;34m(self, func, convert_dtype, args, **kwds)\u001b[0m\n\u001b[1;32m   2058\u001b[0m             \u001b[0mvalues\u001b[0m \u001b[0;34m=\u001b[0m \u001b[0mlib\u001b[0m\u001b[0;34m.\u001b[0m\u001b[0mmap_infer\u001b[0m\u001b[0;34m(\u001b[0m\u001b[0mvalues\u001b[0m\u001b[0;34m,\u001b[0m \u001b[0mlib\u001b[0m\u001b[0;34m.\u001b[0m\u001b[0mTimestamp\u001b[0m\u001b[0;34m)\u001b[0m\u001b[0;34m\u001b[0m\u001b[0m\n\u001b[1;32m   2059\u001b[0m \u001b[0;34m\u001b[0m\u001b[0m\n\u001b[0;32m-> 2060\u001b[0;31m         \u001b[0mmapped\u001b[0m \u001b[0;34m=\u001b[0m \u001b[0mlib\u001b[0m\u001b[0;34m.\u001b[0m\u001b[0mmap_infer\u001b[0m\u001b[0;34m(\u001b[0m\u001b[0mvalues\u001b[0m\u001b[0;34m,\u001b[0m \u001b[0mf\u001b[0m\u001b[0;34m,\u001b[0m \u001b[0mconvert\u001b[0m\u001b[0;34m=\u001b[0m\u001b[0mconvert_dtype\u001b[0m\u001b[0;34m)\u001b[0m\u001b[0;34m\u001b[0m\u001b[0m\n\u001b[0m\u001b[1;32m   2061\u001b[0m         \u001b[0;32mif\u001b[0m \u001b[0mlen\u001b[0m\u001b[0;34m(\u001b[0m\u001b[0mmapped\u001b[0m\u001b[0;34m)\u001b[0m \u001b[0;32mand\u001b[0m \u001b[0misinstance\u001b[0m\u001b[0;34m(\u001b[0m\u001b[0mmapped\u001b[0m\u001b[0;34m[\u001b[0m\u001b[0;36m0\u001b[0m\u001b[0;34m]\u001b[0m\u001b[0;34m,\u001b[0m \u001b[0mSeries\u001b[0m\u001b[0;34m)\u001b[0m\u001b[0;34m:\u001b[0m\u001b[0;34m\u001b[0m\u001b[0m\n\u001b[1;32m   2062\u001b[0m             \u001b[0;32mfrom\u001b[0m \u001b[0mpandas\u001b[0m\u001b[0;34m.\u001b[0m\u001b[0mcore\u001b[0m\u001b[0;34m.\u001b[0m\u001b[0mframe\u001b[0m \u001b[0;32mimport\u001b[0m \u001b[0mDataFrame\u001b[0m\u001b[0;34m\u001b[0m\u001b[0m\n",
      "\u001b[0;32mpandas/src/inference.pyx\u001b[0m in \u001b[0;36mpandas.lib.map_infer (pandas/lib.c:58435)\u001b[0;34m()\u001b[0m\n",
      "\u001b[0;32m<ipython-input-79-b66d5bfe0dcb>\u001b[0m in \u001b[0;36m<lambda>\u001b[0;34m(s)\u001b[0m\n\u001b[1;32m      9\u001b[0m \u001b[0;34m\u001b[0m\u001b[0m\n\u001b[1;32m     10\u001b[0m \u001b[0mswears\u001b[0m \u001b[0;34m=\u001b[0m \u001b[0mtweet_df\u001b[0m\u001b[0;34m.\u001b[0m\u001b[0mttext_cleand\u001b[0m\u001b[0;34m.\u001b[0m\u001b[0mapply\u001b[0m\u001b[0;34m(\u001b[0m\u001b[0mswear_check\u001b[0m\u001b[0;34m)\u001b[0m\u001b[0;34m\u001b[0m\u001b[0m\n\u001b[0;32m---> 11\u001b[0;31m \u001b[0mavg_swears\u001b[0m \u001b[0;34m=\u001b[0m \u001b[0mtweet_df\u001b[0m\u001b[0;34m.\u001b[0m\u001b[0mstate\u001b[0m\u001b[0;34m.\u001b[0m\u001b[0mapply\u001b[0m\u001b[0;34m(\u001b[0m\u001b[0;32mlambda\u001b[0m \u001b[0ms\u001b[0m\u001b[0;34m:\u001b[0m \u001b[0mnp\u001b[0m\u001b[0;34m.\u001b[0m\u001b[0mmean\u001b[0m\u001b[0;34m(\u001b[0m\u001b[0mtweet_df\u001b[0m\u001b[0;34m[\u001b[0m\u001b[0mtweet_df\u001b[0m\u001b[0;34m.\u001b[0m\u001b[0mstate\u001b[0m\u001b[0;34m==\u001b[0m\u001b[0ms\u001b[0m\u001b[0;34m]\u001b[0m\u001b[0;34m.\u001b[0m\u001b[0mswears\u001b[0m\u001b[0;34m)\u001b[0m\u001b[0;34m)\u001b[0m\u001b[0;34m\u001b[0m\u001b[0m\n\u001b[0m",
      "\u001b[0;32m/Users/user/anaconda/lib/python2.7/site-packages/pandas/core/ops.pyc\u001b[0m in \u001b[0;36mwrapper\u001b[0;34m(self, other, axis)\u001b[0m\n\u001b[1;32m    612\u001b[0m \u001b[0;34m\u001b[0m\u001b[0m\n\u001b[1;32m    613\u001b[0m             \u001b[0;31m# scalars\u001b[0m\u001b[0;34m\u001b[0m\u001b[0;34m\u001b[0m\u001b[0m\n\u001b[0;32m--> 614\u001b[0;31m             \u001b[0mres\u001b[0m \u001b[0;34m=\u001b[0m \u001b[0mna_op\u001b[0m\u001b[0;34m(\u001b[0m\u001b[0mvalues\u001b[0m\u001b[0;34m,\u001b[0m \u001b[0mother\u001b[0m\u001b[0;34m)\u001b[0m\u001b[0;34m\u001b[0m\u001b[0m\n\u001b[0m\u001b[1;32m    615\u001b[0m             \u001b[0;32mif\u001b[0m \u001b[0mnp\u001b[0m\u001b[0;34m.\u001b[0m\u001b[0misscalar\u001b[0m\u001b[0;34m(\u001b[0m\u001b[0mres\u001b[0m\u001b[0;34m)\u001b[0m\u001b[0;34m:\u001b[0m\u001b[0;34m\u001b[0m\u001b[0m\n\u001b[1;32m    616\u001b[0m                 raise TypeError('Could not compare %s type with Series'\n",
      "\u001b[0;32m/Users/user/anaconda/lib/python2.7/site-packages/pandas/core/ops.pyc\u001b[0m in \u001b[0;36mna_op\u001b[0;34m(x, y)\u001b[0m\n\u001b[1;32m    560\u001b[0m                     \u001b[0mresult\u001b[0m \u001b[0;34m=\u001b[0m \u001b[0mlib\u001b[0m\u001b[0;34m.\u001b[0m\u001b[0mvec_compare\u001b[0m\u001b[0;34m(\u001b[0m\u001b[0mx\u001b[0m\u001b[0;34m,\u001b[0m \u001b[0my\u001b[0m\u001b[0;34m,\u001b[0m \u001b[0mop\u001b[0m\u001b[0;34m)\u001b[0m\u001b[0;34m\u001b[0m\u001b[0m\n\u001b[1;32m    561\u001b[0m             \u001b[0;32melse\u001b[0m\u001b[0;34m:\u001b[0m\u001b[0;34m\u001b[0m\u001b[0m\n\u001b[0;32m--> 562\u001b[0;31m                 \u001b[0mresult\u001b[0m \u001b[0;34m=\u001b[0m \u001b[0mlib\u001b[0m\u001b[0;34m.\u001b[0m\u001b[0mscalar_compare\u001b[0m\u001b[0;34m(\u001b[0m\u001b[0mx\u001b[0m\u001b[0;34m,\u001b[0m \u001b[0my\u001b[0m\u001b[0;34m,\u001b[0m \u001b[0mop\u001b[0m\u001b[0;34m)\u001b[0m\u001b[0;34m\u001b[0m\u001b[0m\n\u001b[0m\u001b[1;32m    563\u001b[0m         \u001b[0;32melse\u001b[0m\u001b[0;34m:\u001b[0m\u001b[0;34m\u001b[0m\u001b[0m\n\u001b[1;32m    564\u001b[0m \u001b[0;34m\u001b[0m\u001b[0m\n",
      "\u001b[0;32mpandas/lib.pyx\u001b[0m in \u001b[0;36mpandas.lib.scalar_compare (pandas/lib.c:12583)\u001b[0;34m()\u001b[0m\n",
      "\u001b[0;32m/Users/user/anaconda/lib/python2.7/site-packages/numpy/core/_internal.pyc\u001b[0m in \u001b[0;36m_view_is_safe\u001b[0;34m(oldtype, newtype)\u001b[0m\n\u001b[1;32m    449\u001b[0m     \u001b[0m_check_field_overlap\u001b[0m\u001b[0;34m(\u001b[0m\u001b[0mnew_fields\u001b[0m\u001b[0;34m,\u001b[0m \u001b[0mold_fields\u001b[0m\u001b[0;34m)\u001b[0m\u001b[0;34m\u001b[0m\u001b[0m\n\u001b[1;32m    450\u001b[0m \u001b[0;34m\u001b[0m\u001b[0m\n\u001b[0;32m--> 451\u001b[0;31m \u001b[0;32mdef\u001b[0m \u001b[0m_view_is_safe\u001b[0m\u001b[0;34m(\u001b[0m\u001b[0moldtype\u001b[0m\u001b[0;34m,\u001b[0m \u001b[0mnewtype\u001b[0m\u001b[0;34m)\u001b[0m\u001b[0;34m:\u001b[0m\u001b[0;34m\u001b[0m\u001b[0m\n\u001b[0m\u001b[1;32m    452\u001b[0m     \"\"\" Checks safety of a view involving object arrays, for example when\n\u001b[1;32m    453\u001b[0m     \u001b[0mdoing\u001b[0m\u001b[0;34m:\u001b[0m\u001b[0;34m:\u001b[0m\u001b[0;34m\u001b[0m\u001b[0m\n",
      "\u001b[0;31mKeyboardInterrupt\u001b[0m: "
     ]
    }
   ],
   "source": [
    "def swear_check(tweet):\n",
    "    try:\n",
    "        for swear in swear_list:\n",
    "            if swear in tweet:\n",
    "                return True\n",
    "        return False\n",
    "    except:\n",
    "        return False\n",
    "    \n",
    "swears = tweet_df.ttext_cleand.apply(swear_check)"
   ]
  },
  {
   "cell_type": "code",
   "execution_count": 82,
   "metadata": {
    "collapsed": false
   },
   "outputs": [],
   "source": [
    "swear_avgs = {}\n",
    "\n",
    "for state in tweet_df.state.unique():\n",
    "    swear_avgs[state] = np.mean(tweet_df[tweet_df.state==state].swears)\n",
    "    \n",
    "avg_swears = tweet_df.state.apply(lambda s: swear_avgs[s])"
   ]
  },
  {
   "cell_type": "code",
   "execution_count": 83,
   "metadata": {
    "collapsed": true
   },
   "outputs": [],
   "source": [
    "tweet_df['swears'] = pd.Series(swears)\n",
    "tweet_df['avg_swears'] = pd.Series(avg_swears)"
   ]
  },
  {
   "cell_type": "code",
   "execution_count": 84,
   "metadata": {
    "collapsed": false
   },
   "outputs": [
    {
     "data": {
      "text/html": [
       "<div>\n",
       "<table border=\"1\" class=\"dataframe\">\n",
       "  <thead>\n",
       "    <tr style=\"text-align: right;\">\n",
       "      <th></th>\n",
       "      <th>coords</th>\n",
       "      <th>country</th>\n",
       "      <th>lang</th>\n",
       "      <th>place</th>\n",
       "      <th>state</th>\n",
       "      <th>timestamp</th>\n",
       "      <th>ttext</th>\n",
       "      <th>ttext_cleand</th>\n",
       "      <th>tweetid</th>\n",
       "      <th>userid</th>\n",
       "      <th>happ_scores</th>\n",
       "      <th>bool_happ</th>\n",
       "      <th>lat</th>\n",
       "      <th>long</th>\n",
       "      <th>norm_happ</th>\n",
       "      <th>swears</th>\n",
       "      <th>avg_swears</th>\n",
       "    </tr>\n",
       "  </thead>\n",
       "  <tbody>\n",
       "    <tr>\n",
       "      <th>0</th>\n",
       "      <td>47.614937999999995,-122.3306025</td>\n",
       "      <td>United States</td>\n",
       "      <td>en</td>\n",
       "      <td>Seattle, WA</td>\n",
       "      <td>WA</td>\n",
       "      <td>1.447267e+12</td>\n",
       "      <td>After taking public transit in DC and Seattle,...</td>\n",
       "      <td>after taking public transit in dc and seattle,...</td>\n",
       "      <td>6.645109e+17</td>\n",
       "      <td>537328079</td>\n",
       "      <td>5.222222</td>\n",
       "      <td>True</td>\n",
       "      <td>47.61494</td>\n",
       "      <td>-122.3306</td>\n",
       "      <td>0.006753</td>\n",
       "      <td>False</td>\n",
       "      <td>0.128416</td>\n",
       "    </tr>\n",
       "    <tr>\n",
       "      <th>1</th>\n",
       "      <td>37.7050435,-122.162294</td>\n",
       "      <td>United States</td>\n",
       "      <td>en</td>\n",
       "      <td>San Leandro, CA</td>\n",
       "      <td>CA</td>\n",
       "      <td>1.447267e+12</td>\n",
       "      <td>Thankful for all the veterans out there, I lov...</td>\n",
       "      <td>thankful for all the veterans out there, i lov...</td>\n",
       "      <td>6.645109e+17</td>\n",
       "      <td>3896359752</td>\n",
       "      <td>6.666667</td>\n",
       "      <td>True</td>\n",
       "      <td>37.70504</td>\n",
       "      <td>-122.1623</td>\n",
       "      <td>0.213102</td>\n",
       "      <td>False</td>\n",
       "      <td>0.126057</td>\n",
       "    </tr>\n",
       "    <tr>\n",
       "      <th>2</th>\n",
       "      <td>37.7706565,-122.4359785</td>\n",
       "      <td>United States</td>\n",
       "      <td>en</td>\n",
       "      <td>San Francisco, CA</td>\n",
       "      <td>CA</td>\n",
       "      <td>1.447267e+12</td>\n",
       "      <td>@Priz I've been watching, but not really enjoy...</td>\n",
       "      <td>AT_USER i've been watching, but not really enj...</td>\n",
       "      <td>6.645109e+17</td>\n",
       "      <td>15532647</td>\n",
       "      <td>5.714286</td>\n",
       "      <td>True</td>\n",
       "      <td>37.77066</td>\n",
       "      <td>-122.436</td>\n",
       "      <td>0.077048</td>\n",
       "      <td>False</td>\n",
       "      <td>0.126057</td>\n",
       "    </tr>\n",
       "    <tr>\n",
       "      <th>3</th>\n",
       "      <td>26.270260999999998,-80.2497725</td>\n",
       "      <td>United States</td>\n",
       "      <td>en</td>\n",
       "      <td>Coral Springs, FL</td>\n",
       "      <td>FL</td>\n",
       "      <td>1.447267e+12</td>\n",
       "      <td>@awolnation it's my bday too 💕</td>\n",
       "      <td>AT_USER it's my bday too 💕</td>\n",
       "      <td>6.645109e+17</td>\n",
       "      <td>1064780006</td>\n",
       "      <td>7.000000</td>\n",
       "      <td>True</td>\n",
       "      <td>26.27026</td>\n",
       "      <td>-80.24977</td>\n",
       "      <td>0.260721</td>\n",
       "      <td>False</td>\n",
       "      <td>0.126278</td>\n",
       "    </tr>\n",
       "    <tr>\n",
       "      <th>4</th>\n",
       "      <td>39.7795625,-86.1429225</td>\n",
       "      <td>United States</td>\n",
       "      <td>en</td>\n",
       "      <td>Indianapolis, IN</td>\n",
       "      <td>IN</td>\n",
       "      <td>1.447267e+12</td>\n",
       "      <td>@bobandtom VIP cam has been running over 7 hou...</td>\n",
       "      <td>AT_USER vip cam has been running over 7 hours!...</td>\n",
       "      <td>6.645109e+17</td>\n",
       "      <td>63448519</td>\n",
       "      <td>5.200000</td>\n",
       "      <td>True</td>\n",
       "      <td>39.77956</td>\n",
       "      <td>-86.14292</td>\n",
       "      <td>0.003578</td>\n",
       "      <td>False</td>\n",
       "      <td>0.132189</td>\n",
       "    </tr>\n",
       "  </tbody>\n",
       "</table>\n",
       "</div>"
      ],
      "text/plain": [
       "                            coords        country lang              place state     timestamp                                              ttext                                       ttext_cleand       tweetid      userid  happ_scores bool_happ       lat      long  norm_happ swears  avg_swears\n",
       "0  47.614937999999995,-122.3306025  United States   en        Seattle, WA    WA  1.447267e+12  After taking public transit in DC and Seattle,...  after taking public transit in dc and seattle,...  6.645109e+17   537328079     5.222222      True  47.61494 -122.3306   0.006753  False    0.128416\n",
       "1           37.7050435,-122.162294  United States   en    San Leandro, CA    CA  1.447267e+12  Thankful for all the veterans out there, I lov...  thankful for all the veterans out there, i lov...  6.645109e+17  3896359752     6.666667      True  37.70504 -122.1623   0.213102  False    0.126057\n",
       "2          37.7706565,-122.4359785  United States   en  San Francisco, CA    CA  1.447267e+12  @Priz I've been watching, but not really enjoy...  AT_USER i've been watching, but not really enj...  6.645109e+17    15532647     5.714286      True  37.77066  -122.436   0.077048  False    0.126057\n",
       "3   26.270260999999998,-80.2497725  United States   en  Coral Springs, FL    FL  1.447267e+12                    @awolnation it's my bday too 💕                        AT_USER it's my bday too 💕  6.645109e+17  1064780006     7.000000      True  26.27026 -80.24977   0.260721  False    0.126278\n",
       "4           39.7795625,-86.1429225  United States   en   Indianapolis, IN    IN  1.447267e+12  @bobandtom VIP cam has been running over 7 hou...  AT_USER vip cam has been running over 7 hours!...  6.645109e+17    63448519     5.200000      True  39.77956 -86.14292   0.003578  False    0.132189"
      ]
     },
     "execution_count": 84,
     "metadata": {},
     "output_type": "execute_result"
    }
   ],
   "source": [
    "tweet_df.head()"
   ]
  },
  {
   "cell_type": "code",
   "execution_count": 91,
   "metadata": {
    "collapsed": false
   },
   "outputs": [
    {
     "data": {
      "text/plain": [
       "<matplotlib.axes._subplots.AxesSubplot at 0x12a9e8750>"
      ]
     },
     "execution_count": 91,
     "metadata": {},
     "output_type": "execute_result"
    },
    {
     "data": {
      "image/png": "[encoded data removed]",
      "text/plain": [
       "<matplotlib.figure.Figure at 0x102a35e50>"
      ]
     },
     "metadata": {},
     "output_type": "display_data"
    }
   ],
   "source": [
    "sns.kdeplot(tweet_df.avg_swears)"
   ]
  },
  {
   "cell_type": "code",
   "execution_count": 95,
   "metadata": {
    "collapsed": false
   },
   "outputs": [
    {
     "data": {
      "text/plain": [
       "1.0"
      ]
     },
     "execution_count": 95,
     "metadata": {},
     "output_type": "execute_result"
    }
   ],
   "source": [
    "tweet_df.avg_swears"
   ]
  },
  {
   "cell_type": "code",
   "execution_count": null,
   "metadata": {
    "collapsed": true
   },
   "outputs": [],
   "source": []
  }
 ],
 "metadata": {
  "kernelspec": {
   "display_name": "Python 2",
   "language": "python",
   "name": "python2"
  },
  "language_info": {
   "codemirror_mode": {
    "name": "ipython",
    "version": 2
   },
   "file_extension": ".py",
   "mimetype": "text/x-python",
   "name": "python",
   "nbconvert_exporter": "python",
   "pygments_lexer": "ipython2",
   "version": "2.7.10"
  }
 },
 "nbformat": 4,
 "nbformat_minor": 0
}
