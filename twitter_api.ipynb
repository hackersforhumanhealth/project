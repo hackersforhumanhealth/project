{
 "cells": [
  {
   "cell_type": "code",
   "execution_count": 35,
   "metadata": {
    "collapsed": false
   },
   "outputs": [
    {
     "name": "stdout",
     "output_type": "stream",
     "text": [
      "['/Users/aocano/anaconda/lib/python2.7/site-packages/python_twitter-2.3-py2.7.egg/twitter']\n"
     ]
    }
   ],
   "source": [
    "import twitter\n",
    "print(twitter.__path__)\n",
    "import pandas as pd\n"
   ]
  },
  {
   "cell_type": "code",
   "execution_count": 36,
   "metadata": {
    "collapsed": true
   },
   "outputs": [],
   "source": [
    "api = twitter.Api(consumer_key='32vhzjeyqCfwDeJryWtkK9DFR',\n",
    "consumer_secret='6EiNmO2CQqqlb9DpaQdi7AXWmyuMGPMln60ah7Xq6uJ4oCV6Nq', access_token_key='4305690374-TnVVJFNECEDwyxB47ZTcdlZveEnehl8ZXFee7pL', access_token_secret='XRRqVQOF253yBdhDNf5PIaH2hVR3GMRqGqvrDnBq7Av3h')"
   ]
  },
  {
   "cell_type": "code",
   "execution_count": 37,
   "metadata": {
    "collapsed": false
   },
   "outputs": [
    {
     "name": "stdout",
     "output_type": "stream",
     "text": [
      "{\"created_at\": \"Fri Nov 20 22:59:33 +0000 2015\", \"default_profile\": true, \"default_profile_image\": true, \"followers_count\": 2, \"friends_count\": 40, \"id\": 4305690374, \"lang\": \"en\", \"name\": \"Alex Covarrubias\", \"profile_background_color\": \"C0DEED\", \"profile_background_image_url\": \"http://abs.twimg.com/images/themes/theme1/bg.png\", \"profile_background_tile\": false, \"profile_image_url\": \"https://abs.twimg.com/sticky/default_profile_images/default_profile_6_normal.png\", \"profile_link_color\": \"0084B4\", \"profile_sidebar_fill_color\": \"DDEEF6\", \"profile_text_color\": \"333333\", \"protected\": false, \"screen_name\": \"acovarru10\"}\n"
     ]
    }
   ],
   "source": [
    "print api.VerifyCredentials() "
   ]
  },
  {
   "cell_type": "code",
   "execution_count": 38,
   "metadata": {
    "collapsed": false
   },
   "outputs": [],
   "source": [
    "import random\n",
    "import string\n",
    "r=range(0,1000)\n",
    "list_=[]\n",
    "for i in r:\n",
    "    char= random.choice(string.letters)\n",
    "    list_.extend(char)"
   ]
  },
  {
   "cell_type": "code",
   "execution_count": 39,
   "metadata": {
    "collapsed": false
   },
   "outputs": [
    {
     "name": "stdout",
     "output_type": "stream",
     "text": [
      "CPU times: user 19min 9s, sys: 18.6 s, total: 19min 28s\n",
      "Wall time: 2h 35min 33s\n"
     ]
    }
   ],
   "source": [
    "%%time\n",
    "import time\n",
    "final_dict = {'uid':[], 'tid':[], 'text':[], 'timestamp':[], 'city':[], 'country':[], 'json':[], 'user':[]}\n",
    "for i in list_:\n",
    "    time.sleep(6)\n",
    "    search = api.GetSearch(term=i, lang='en', result_type='recent', count=100)\n",
    "\n",
    "\n",
    "    for t in search:\n",
    "        final_dict['text'].append([t.text.encode('utf-8')])\n",
    "        final_dict['user'].append([t.user.screen_name])\n",
    "        final_dict['country'].append([t.user.location])\n",
    "        final_dict['uid'].append([t.user.id])\n",
    "        final_dict['tid'].append([t.id])\n",
    "        final_dict['timestamp'].append([t.created_at])\n",
    "  \n",
    "        df=pd.DataFrame(dict(text=final_dict['text'], user=final_dict['user'],tid=final_dict['tid'],\n",
    "                          country=final_dict['country'], uid=final_dict['uid'],\n",
    "                           timestamp=final_dict['timestamp']))"
   ]
  },
  {
   "cell_type": "code",
   "execution_count": 40,
   "metadata": {
    "collapsed": false
   },
   "outputs": [
    {
     "data": {
      "text/html": [
       "<div style=\"max-height:1000px;max-width:1500px;overflow:auto;\">\n",
       "<table border=\"1\" class=\"dataframe\">\n",
       "  <thead>\n",
       "    <tr style=\"text-align: right;\">\n",
       "      <th></th>\n",
       "      <th>country</th>\n",
       "      <th>text</th>\n",
       "      <th>tid</th>\n",
       "      <th>timestamp</th>\n",
       "      <th>uid</th>\n",
       "      <th>user</th>\n",
       "    </tr>\n",
       "  </thead>\n",
       "  <tbody>\n",
       "    <tr>\n",
       "      <th>0</th>\n",
       "      <td>                       []</td>\n",
       "      <td> [RT @LZWOLVES: Li: you're so beautiful \\nZ: sh...</td>\n",
       "      <td> [669592602799431680]</td>\n",
       "      <td> [Wed Nov 25 19:04:51 +0000 2015]</td>\n",
       "      <td> [3550926852]</td>\n",
       "      <td>    [1dabby_horan]</td>\n",
       "    </tr>\n",
       "    <tr>\n",
       "      <th>1</th>\n",
       "      <td>                       []</td>\n",
       "      <td>             [Old jay z is too fucking fire. 🐸☕️]</td>\n",
       "      <td> [669592599632588801]</td>\n",
       "      <td> [Wed Nov 25 19:04:50 +0000 2015]</td>\n",
       "      <td> [1191682388]</td>\n",
       "      <td>   [ender_navarro]</td>\n",
       "    </tr>\n",
       "    <tr>\n",
       "      <th>2</th>\n",
       "      <td>                       []</td>\n",
       "      <td> [RT @justjamiie: I deserve an aware for most d...</td>\n",
       "      <td> [669592594150793216]</td>\n",
       "      <td> [Wed Nov 25 19:04:49 +0000 2015]</td>\n",
       "      <td> [3053624944]</td>\n",
       "      <td>       [chante__Z]</td>\n",
       "    </tr>\n",
       "    <tr>\n",
       "      <th>3</th>\n",
       "      <td>                    [USA]</td>\n",
       "      <td> [Check out LINKIN PARK &amp;amp; JAY Z-COLLISIION ...</td>\n",
       "      <td> [669592591642599425]</td>\n",
       "      <td> [Wed Nov 25 19:04:48 +0000 2015]</td>\n",
       "      <td>  [444198922]</td>\n",
       "      <td> [ELIZABETHLapico]</td>\n",
       "    </tr>\n",
       "    <tr>\n",
       "      <th>4</th>\n",
       "      <td> [Eastern North Carolina]</td>\n",
       "      <td> [Have a happy Thanksgiving @AstridO @SahraJo @...</td>\n",
       "      <td> [669592586051559425]</td>\n",
       "      <td> [Wed Nov 25 19:04:47 +0000 2015]</td>\n",
       "      <td>   [68261823]</td>\n",
       "      <td>     [debeluv1960]</td>\n",
       "    </tr>\n",
       "  </tbody>\n",
       "</table>\n",
       "</div>"
      ],
      "text/plain": [
       "                    country  \\\n",
       "0                        []   \n",
       "1                        []   \n",
       "2                        []   \n",
       "3                     [USA]   \n",
       "4  [Eastern North Carolina]   \n",
       "\n",
       "                                                text                   tid  \\\n",
       "0  [RT @LZWOLVES: Li: you're so beautiful \\nZ: sh...  [669592602799431680]   \n",
       "1              [Old jay z is too fucking fire. 🐸☕️]  [669592599632588801]   \n",
       "2  [RT @justjamiie: I deserve an aware for most d...  [669592594150793216]   \n",
       "3  [Check out LINKIN PARK &amp; JAY Z-COLLISIION ...  [669592591642599425]   \n",
       "4  [Have a happy Thanksgiving @AstridO @SahraJo @...  [669592586051559425]   \n",
       "\n",
       "                          timestamp           uid               user  \n",
       "0  [Wed Nov 25 19:04:51 +0000 2015]  [3550926852]     [1dabby_horan]  \n",
       "1  [Wed Nov 25 19:04:50 +0000 2015]  [1191682388]    [ender_navarro]  \n",
       "2  [Wed Nov 25 19:04:49 +0000 2015]  [3053624944]        [chante__Z]  \n",
       "3  [Wed Nov 25 19:04:48 +0000 2015]   [444198922]  [ELIZABETHLapico]  \n",
       "4  [Wed Nov 25 19:04:47 +0000 2015]    [68261823]      [debeluv1960]  "
      ]
     },
     "execution_count": 40,
     "metadata": {},
     "output_type": "execute_result"
    }
   ],
   "source": [
    "df.head()"
   ]
  },
  {
   "cell_type": "code",
   "execution_count": 44,
   "metadata": {
    "collapsed": false
   },
   "outputs": [],
   "source": [
    "open('tweets.csv','w')\n",
    "df.to_csv('tweets.csv')"
   ]
  },
  {
   "cell_type": "code",
   "execution_count": 42,
   "metadata": {
    "collapsed": false
   },
   "outputs": [
    {
     "data": {
      "text/plain": [
       "99990"
      ]
     },
     "execution_count": 42,
     "metadata": {},
     "output_type": "execute_result"
    }
   ],
   "source": [
    "len(df)"
   ]
  },
  {
   "cell_type": "code",
   "execution_count": 43,
   "metadata": {
    "collapsed": false
   },
   "outputs": [
    {
     "name": "stdout",
     "output_type": "stream",
     "text": [
      "0\n"
     ]
    }
   ],
   "source": [
    "print len(final_dict['city'])\n",
    "\n"
   ]
  }
 ],
 "metadata": {
  "kernelspec": {
   "display_name": "Python 2",
   "language": "python",
   "name": "python2"
  },
  "language_info": {
   "codemirror_mode": {
    "name": "ipython",
    "version": 2
   },
   "file_extension": ".py",
   "mimetype": "text/x-python",
   "name": "python",
   "nbconvert_exporter": "python",
   "pygments_lexer": "ipython2",
   "version": "2.7.10"
  }
 },
 "nbformat": 4,
 "nbformat_minor": 0
}
